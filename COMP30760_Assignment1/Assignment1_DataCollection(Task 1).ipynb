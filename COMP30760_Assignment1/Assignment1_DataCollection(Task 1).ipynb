{
 "cells": [
  {
   "cell_type": "markdown",
   "metadata": {},
   "source": [
    "# Task 1: Data Collection\n",
    "Student Name: Edmond Agbaje\n",
    "\n",
    "Student Number: 19366741\n",
    "\n",
    "Web API: Football Data API"
   ]
  },
  {
   "cell_type": "markdown",
   "metadata": {},
   "source": [
    "This notebook collects the Top 20 goalscorers in 10 different competitions(9 different leagues and the World Cup 2018)."
   ]
  },
  {
   "cell_type": "code",
   "execution_count": 1,
   "metadata": {},
   "outputs": [],
   "source": [
    "import json, requests, urllib\n",
    "from pathlib import Path\n",
    "from datetime import datetime\n",
    "import pandas as pd\n",
    "import matplotlib\n",
    "import matplotlib.pyplot as plt\n",
    "%matplotlib inline"
   ]
  },
  {
   "cell_type": "markdown",
   "metadata": {},
   "source": [
    "Settings for the API and data collection. "
   ]
  },
  {
   "cell_type": "code",
   "execution_count": 2,
   "metadata": {},
   "outputs": [],
   "source": [
    "# API Key\n",
    "api_key = \"3993f48ea2084ae9b94f9afbc0edc4f9\"\n",
    "# Prefix for API URLs\n",
    "api_prefix = \"http://api.football-data.org/v2\"\n",
    "# The leagues to be studied for analysis\n",
    "competiton_names = [\"Premier League\", \"La Liga\", \"Seria A\", \"Ligue 1\", \"Campeonato Brasileiro Série A\", \"Primera Liga\", \"Bundesliga\", \"Eredevisie\", \"English Championship\", \"World Cup\"]\n",
    "# The leagues ID, used for easier identification \n",
    "competition_ids = {\"Premier League\":\"PL\", \"La Liga\":\"PD\", \"Seria A\":\"SA\", \"Ligue 1\":\"FL1\", \"Campeonato Brasileiro Série A\":\"BSA\", \"Primera Liga\":\"PPL\", \"Bundesliga\": \"BL1\", \"Eredevisie\": \"DED\", \"English Championship\":\"ELC\", \"World Cup\": \"WC\"}"
   ]
  },
  {
   "cell_type": "markdown",
   "metadata": {},
   "source": [
    "Create directory for raw data storage."
   ]
  },
  {
   "cell_type": "code",
   "execution_count": 3,
   "metadata": {},
   "outputs": [],
   "source": [
    "dir_raw = Path(\"rawdata\")\n",
    "dir_raw.mkdir(parents=True, exist_ok=True)"
   ]
  },
  {
   "cell_type": "markdown",
   "metadata": {},
   "source": [
    "# Collecting Data\n",
    "Define a function called fetch to retrieve the data from the API."
   ]
  },
  {
   "cell_type": "code",
   "execution_count": 4,
   "metadata": {},
   "outputs": [],
   "source": [
    "def fetch(competition_ids):\n",
    "    #if statement needed as the world cup isn't a season and needs a different url to the league competetions\n",
    "    if competition_ids == \"WC\":\n",
    "        url = api_prefix + \"/competitions/\" + competition_ids + \"/scorers?limit=20\"\n",
    "    else:\n",
    "        # construct the url\n",
    "        url = api_prefix + \"/competitions/\" + competition_ids + \"/scorers?season=2020&limit=20\"\n",
    "    #construct header to fetch data from api\n",
    "    headers = { 'X-Auth-Token': '3993f48ea2084ae9b94f9afbc0edc4f9', 'Accept-Encoding': '' }\n",
    "    # fetch the page\n",
    "    response = requests.get(url, headers = headers)\n",
    "    jdata = response.text\n",
    "    return json.loads(jdata)"
   ]
  },
  {
   "cell_type": "markdown",
   "metadata": {},
   "source": [
    "Function to save the data that is fetched from the API"
   ]
  },
  {
   "cell_type": "code",
   "execution_count": 5,
   "metadata": {},
   "outputs": [],
   "source": [
    "def save_raw(competition_ids):\n",
    "    # fetch the current data\n",
    "    current_data = fetch(competition_ids)\n",
    "    # write it out to our raw dataset directory\n",
    "    fname = \"%s.json\" % (competition_ids)\n",
    "    out_path = dir_raw / fname\n",
    "    print(\"Writing data to %s\" % out_path)\n",
    "    fout = open(out_path, \"w\")\n",
    "    json.dump(current_data, fout, indent=4, sort_keys=True)\n",
    "    fout.close()"
   ]
  },
  {
   "cell_type": "markdown",
   "metadata": {},
   "source": [
    "Run code to build the dataset for analysis in Task 2."
   ]
  },
  {
   "cell_type": "code",
   "execution_count": 6,
   "metadata": {},
   "outputs": [
    {
     "name": "stdout",
     "output_type": "stream",
     "text": [
      "Writing data to rawdata\\PL.json\n",
      "Writing data to rawdata\\PD.json\n",
      "Writing data to rawdata\\SA.json\n",
      "Writing data to rawdata\\FL1.json\n",
      "Writing data to rawdata\\BSA.json\n",
      "Writing data to rawdata\\PPL.json\n",
      "Writing data to rawdata\\BL1.json\n",
      "Writing data to rawdata\\DED.json\n",
      "Writing data to rawdata\\ELC.json\n",
      "Writing data to rawdata\\WC.json\n"
     ]
    }
   ],
   "source": [
    "for competition_code in competition_ids:\n",
    "    save_raw(competition_ids[competition_code])"
   ]
  }
 ],
 "metadata": {
  "kernelspec": {
   "display_name": "Python 3",
   "language": "python",
   "name": "python3"
  },
  "language_info": {
   "codemirror_mode": {
    "name": "ipython",
    "version": 3
   },
   "file_extension": ".py",
   "mimetype": "text/x-python",
   "name": "python",
   "nbconvert_exporter": "python",
   "pygments_lexer": "ipython3",
   "version": "3.7.4"
  }
 },
 "nbformat": 4,
 "nbformat_minor": 2
}
